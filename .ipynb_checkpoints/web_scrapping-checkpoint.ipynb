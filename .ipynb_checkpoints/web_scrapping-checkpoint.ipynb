{
 "cells": [
  {
   "cell_type": "code",
   "execution_count": 1,
   "metadata": {},
   "outputs": [],
   "source": [
    "from bs4 import BeautifulSoup as bs\n",
    "import requests"
   ]
  },
  {
   "cell_type": "code",
   "execution_count": 10,
   "metadata": {},
   "outputs": [],
   "source": [
    "pg_num = ['1','2','3']\n",
    "url = 'https://www.viewit.ca/vwListings.aspx?cs='\n",
    "response = requests.get(url)\n",
    "soup = bs(response.text, 'html.parser')"
   ]
  },
  {
   "cell_type": "code",
   "execution_count": 12,
   "metadata": {},
   "outputs": [
    {
     "name": "stdout",
     "output_type": "stream",
     "text": [
      "\r\n",
      "\tRental apartments, condos and houses for rent in Canada\r\n",
      "\n"
     ]
    }
   ],
   "source": [
    "title = soup.title.text\n",
    "titles = []\n",
    "prices = []\n",
    "links = []\n",
    "print(title)"
   ]
  },
  {
   "cell_type": "code",
   "execution_count": 16,
   "metadata": {},
   "outputs": [],
   "source": [
    "descriptions = []\n",
    "prices = []\n",
    "links = []\n",
    "for num in pg_num:\n",
    "    query_url = url + num\n",
    "    response = requests.get(url)\n",
    "    results = soup.find_all(\"article\", class_ =\"result-row\") \n",
    "    for result in results:\n",
    "        try: \n",
    "            title = result.find('a', class_=\"result-title\").text\n",
    "            price = result.find('span', class_=\"result-price\").text\n",
    "            link = result.find('a', class_='result-title')['href']\n",
    "            print(num, title, price, link)\n",
    "            titles.append(title)\n",
    "            prices.append(price)\n",
    "            links.append(link)\n",
    "            nums.append(num)\n",
    "            print('--------')\n",
    "        except:\n",
    "            pass\n",
    "\n",
    "\n",
    "paragraphs = soup.find_all(\"article\",class_ =\"resultListing resultListing-long spListing\")\n",
    "for paragraph in paragraphs:\n",
    "    print(paragraph.text)"
   ]
  },
  {
   "cell_type": "code",
   "execution_count": null,
   "metadata": {},
   "outputs": [],
   "source": []
  }
 ],
 "metadata": {
  "kernelspec": {
   "display_name": "Python 3",
   "language": "python",
   "name": "python3"
  },
  "language_info": {
   "codemirror_mode": {
    "name": "ipython",
    "version": 3
   },
   "file_extension": ".py",
   "mimetype": "text/x-python",
   "name": "python",
   "nbconvert_exporter": "python",
   "pygments_lexer": "ipython3",
   "version": "3.8.3"
  }
 },
 "nbformat": 4,
 "nbformat_minor": 4
}
