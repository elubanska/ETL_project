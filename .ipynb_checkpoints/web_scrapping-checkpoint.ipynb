{
 "cells": [
  {
   "cell_type": "code",
   "execution_count": 22,
   "metadata": {},
   "outputs": [],
   "source": [
    "from bs4 import BeautifulSoup as bs\n",
    "import requests"
   ]
  },
  {
   "cell_type": "code",
   "execution_count": 23,
   "metadata": {},
   "outputs": [],
   "source": [
    "#pg_num = ['1','2','3']\n",
    "url = 'https://housesigma.com/web/en/recommend/more/justsold'\n",
    "#url = 'https://www.viewit.ca/vwListings.aspx?cs='\n",
    "response = requests.get(url)\n",
    "soup = bs(response.text, 'html.parser')"
   ]
  },
  {
   "cell_type": "code",
   "execution_count": 24,
   "metadata": {},
   "outputs": [
    {
     "name": "stdout",
     "output_type": "stream",
     "text": [
      "HouseSigma - Toronto Real Estate Sold Price and Home Valuation\n"
     ]
    }
   ],
   "source": [
    "title = soup.title.text\n",
    "titles = []\n",
    "prices = []\n",
    "links = []\n",
    "print(title)"
   ]
  },
  {
   "cell_type": "code",
   "execution_count": 29,
   "metadata": {},
   "outputs": [
    {
     "name": "stdout",
     "output_type": "stream",
     "text": [
      "[]\n"
     ]
    }
   ],
   "source": [
    "descriptions = []\n",
    "prices = []\n",
    "links = []\n",
    "#for num in pg_num:\n",
    "    #query_url = url + num\n",
    "query_url = url\n",
    "#print(query_url)\n",
    "response = requests.get(url)\n",
    "results = soup.find_all(\"div\", class_ =\"float_cover-row\") \n",
    "print(results)\n",
    "for result in results:\n",
    "        try: \n",
    "            title = result.find('div', class_=\"description\").text\n",
    "            price = result.find('span', class_=\"data-v-15be538f\").text\n",
    "#            link = result.find('a', class_='result-title')['href']\n",
    "            print(title, price)\n",
    "            titles.append(title)\n",
    "            prices.append(price)\n",
    " #           links.append(link)\n",
    " #           nums.append(num)\n",
    "            print('--------')\n",
    "        except:\n",
    "            pass\n",
    "\n",
    "\n"
   ]
  },
  {
   "cell_type": "code",
   "execution_count": null,
   "metadata": {},
   "outputs": [],
   "source": []
  }
 ],
 "metadata": {
  "kernelspec": {
   "display_name": "Python 3",
   "language": "python",
   "name": "python3"
  },
  "language_info": {
   "codemirror_mode": {
    "name": "ipython",
    "version": 3
   },
   "file_extension": ".py",
   "mimetype": "text/x-python",
   "name": "python",
   "nbconvert_exporter": "python",
   "pygments_lexer": "ipython3",
   "version": "3.8.3"
  }
 },
 "nbformat": 4,
 "nbformat_minor": 4
}
